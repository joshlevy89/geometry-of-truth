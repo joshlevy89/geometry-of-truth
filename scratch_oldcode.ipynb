{
 "cells": [
  {
   "cell_type": "code",
   "execution_count": null,
   "id": "ddfeea09-d8ff-489c-aa4b-e8f3c29492e5",
   "metadata": {},
   "outputs": [],
   "source": []
  },
  {
   "cell_type": "code",
   "execution_count": null,
   "id": "2be0ef85-5606-4194-b98c-df29449215a8",
   "metadata": {},
   "outputs": [],
   "source": [
    "# from collections import defaultdict\n",
    "\n",
    "# val_data = defaultdict(dict)\n",
    "# dfs = {} # save for pca viz\n",
    "# for i in range(len(data)):\n",
    "#     dataset_name = data[i]['dataset']\n",
    "#     df = pd.read_csv(os.path.join(ROOT, 'datasets', f'{dataset_name}.csv'))\n",
    "\n",
    "#     query_inds = sorted(list(data[i]['acts'][str(layer)].keys()), key=int)\n",
    "#     prompt_inds = np.setdiff1d(df.index.tolist(), [int(i) for i in query_inds])\n",
    "\n",
    "#     df = df.drop(prompt_inds)\n",
    "#     labels = t.Tensor(df['label'].values).to(device)\n",
    "    \n",
    "#     acts = []\n",
    "#     p_trues = []\n",
    "#     p_falses = []\n",
    "#     for qi in query_inds:\n",
    "#         acts.append(data[i]['acts'][str(layer)][qi])\n",
    "#         p_trues.append(data[i]['prob_true'][qi])\n",
    "#         p_falses.append(data[i]['prob_false'][qi])\n",
    "        \n",
    "#     if dataset_name in medley:\n",
    "#         iid=True\n",
    "#     else:\n",
    "#         iid=False\n",
    "\n",
    "#     # probe_probs = probe(t.tensor(acts).to(device), iid=iid).tolist()\n",
    "    \n",
    "#     # val_data[dataset_name]['acts'] = acts\n",
    "#     val_data[dataset_name]['labels'] = labels.tolist()\n",
    "#     val_data[dataset_name]['p_trues'] = p_trues\n",
    "#     val_data[dataset_name]['p_falses'] = p_falses\n",
    "#     # val_data[dataset_name]['probe_probs'] = probe_probs\n",
    "    \n",
    "#     # for pca viz\n",
    "#     df['activation'] = list(t.tensor(acts))\n",
    "#     dfs[dataset_name] = df"
   ]
  },
  {
   "cell_type": "code",
   "execution_count": null,
   "id": "49b70e12-66b5-4268-9eb0-d6b52abeb19f",
   "metadata": {},
   "outputs": [],
   "source": [
    "# if dataset_name in medley:\n",
    "#     iid=True\n",
    "# else:\n",
    "#     iid=False\n",
    "\n",
    "# probe_probs = probe(t.tensor(acts).to(device), iid=iid).tolist()\n",
    "\n",
    "# val_data[dataset_name]['acts'] = acts\n",
    "# val_data[dataset_name]['labels'] = labels.tolist()\n",
    "# val_data[dataset_name]['p_trues'] = p_trues\n",
    "# val_data[dataset_name]['p_falses'] = p_falses\n",
    "# val_data[dataset_name]['probe_probs'] = probe_probs"
   ]
  }
 ],
 "metadata": {
  "kernelspec": {
   "display_name": "Python 3 (ipykernel)",
   "language": "python",
   "name": "python3"
  },
  "language_info": {
   "codemirror_mode": {
    "name": "ipython",
    "version": 3
   },
   "file_extension": ".py",
   "mimetype": "text/x-python",
   "name": "python",
   "nbconvert_exporter": "python",
   "pygments_lexer": "ipython3",
   "version": "3.9.16"
  }
 },
 "nbformat": 4,
 "nbformat_minor": 5
}
